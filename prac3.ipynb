{
 "cells": [
  {
   "cell_type": "markdown",
   "metadata": {},
   "source": [
    "# Introduction to Artificial Intelligence for Non Computing"
   ]
  },
  {
   "cell_type": "markdown",
   "metadata": {},
   "source": [
    "## Practical 3 (weeks 5 - 6)"
   ]
  },
  {
   "cell_type": "markdown",
   "metadata": {},
   "source": [
    "The following links provide additional information about data analysis , machine learning and Numpy"
   ]
  },
  {
   "cell_type": "markdown",
   "metadata": {},
   "source": [
    "Python data analysis: https://www.imooc.com/learn/843\n",
    "machine learning: https://www.imooc.com/learn/717\n",
    "Numpy :https://www.imooc.com/learn/943"
   ]
  },
  {
   "cell_type": "markdown",
   "metadata": {},
   "source": [
    "#### Theory Questions"
   ]
  },
  {
   "cell_type": "markdown",
   "metadata": {},
   "source": [
    "1\\.Which of the following are true and which are false? Give brief explanations.\n",
    "- a. In a fully observable, turn-taking, zero-sum game between two perfectly rational players,it does not help the first player to know what strategy the second player is using—that is, what move the second player will make, given the first player's move.\n",
    "- b. In a partially observable, turn-taking, zero-sum game between two perfectly rational players, it does not help the first player to know what move the second player will make, given the first player's move.\n",
    "- c. A perfectly rational backgammon agent never loses.\n",
    "\n",
    "See textbook Chapter6 24.6"
   ]
  },
  {
   "cell_type": "markdown",
   "metadata": {},
   "source": [
    "_your answer here..._ \n",
    "a.True. The second player will play optimally, so is perfectly predictable up to ties. Knowing which of two equally good moves the opponent will make \n",
    "doesn't change the value of the game to the first player.\n",
    "b. False. In a partially observable game, knowing the second player's move tells the first player additional information about the game state that would otherwise be available only to the second player.\n",
    "c. False. Backgammon is a mage of chance, and the opponent may consistently roll much better dice. The correct statement is that the expected winnings are optimal.\n",
    "***"
   ]
  },
  {
   "cell_type": "markdown",
   "metadata": {},
   "source": [
    "2\\.Define in your own words the terms constraint, backtracking search, arc consistency,backjumping, min-conflicts, and cycle cutset.\n",
    "\n",
    "See textbook Chapter6 6.16"
   ]
  },
  {
   "cell_type": "markdown",
   "metadata": {},
   "source": [
    "_your answer here..._ \n",
    "1.constraint: A constraint is a restriction on the possible values of two or more variables.\n",
    "2. backtracking search: Backtracking search is a kind of depth-first search. For a certain search tree, backtracking and DFS, the main difference is that backtracking method is not in the solution process. The complete tree structure is preserved, while the DFS records the complete search tree.\n",
    "3. arc consistency: Adirected arc from variable A to variable B in a CSP is arc consistent if,for every value in the current domain of A, there is some consistent value of B.\n",
    "4. backjumping: Backjumping is a way of making backtracking search more efficient, by juming back more than one level when a dead end is reached.\n",
    "5. Min-conflicts is a heuristic for use with local search on CSP problems. The heuristic says that, when given a variable to modify, choose the value that conflicts with the fewest number of other variables.\n",
    "6. cycle cutset: A cycle cutset is a set of variables which when removed from the constrain graph make it acyclic. When the variables of a cycle cutset are instantiated the remainder of the CSP can be solved in linear time.\n",
    "***"
   ]
  },
  {
   "cell_type": "markdown",
   "metadata": {},
   "source": [
    "3\\.Explain why it is a good heuristic to choose the variable that is most constrained but the value that is least constraining in a CSP search.\n",
    "\n",
    "See textbook Chapter6 6.9"
   ]
  },
  {
   "cell_type": "markdown",
   "metadata": {},
   "source": [
    "_your answer here..._ \n",
    "1. The most constrained variable makes sense because it chooses a variable that is likely to cause a failure, and it is more efficient to fail as early as possible. The least constraint value heuristic makes sense because it allows the most chances for future assignments to avoid conflict.\n",
    "\n",
    "***"
   ]
  },
  {
   "cell_type": "markdown",
   "metadata": {},
   "source": [
    "4\\.Consider the following procedure for choosing moves in games with chance nodes: \n",
    "- 1、Generate some dice-roll sequences (say, 50) down to a suitable depth (say, 8).\n",
    "- 2、With known dice rolls, the game tree becomes deterministic. For each dice-roll sequence,solve the resulting deterministic game tree using alpha-beta.\n",
    "- 3、Use the results to estimate the value of each move and to choose the best.Will this procedure work well? Why (or why not)?\n",
    "\n",
    "See textbook Chapter5 5.19"
   ]
  },
  {
   "cell_type": "markdown",
   "metadata": {},
   "source": [
    "_your answer here..._ \n",
    "1. This procedure will give incorrect results. Mathematically, the procedure amounts to assumeing that averaging commutes with min and max, which it does not intuitively, the choices made by each player in the deterministic trees are based on full knowledge of future dice rolls, and bear no necessary relationship to the moves made without such knowledge.\n",
    "***"
   ]
  },
  {
   "cell_type": "markdown",
   "metadata": {},
   "source": [
    "5\\. Now,please consider this game:  there are three plates A, B and C, each plate has three bills. A puts 1, 20, 50; B puts 5, 10, 100; C puts 1, 5, 20. All units are \"Yuan\". There are two persons A and B, and two of them can check out three plates and banknotes .（ A is ourself, The other is B）\n",
    "The game is divided into three steps: \n",
    "- 1、A select a plate from three plate.\n",
    "- 2、B take out two banknotes from A selected plate,and give the  banknotes to A.  \n",
    "- 3、A take one of the two banknotes, and take it away.among,A want to get the max banknotes, B want to let A to get the min.\n",
    "\n",
    "Try to understand the minimax algorithm，you can click the link:https://blog.csdn.net/tangchenyi/article/details/22920031"
   ]
  },
  {
   "cell_type": "markdown",
   "metadata": {},
   "source": [
    "_your answer here..._ \n",
    "B will choose 1 bill, 5 bill and 1 bill from plates A,B and C. Such that A will choose 5 bill from those bills.\n",
    "***"
   ]
  },
  {
   "cell_type": "markdown",
   "metadata": {},
   "source": [
    "### Programming Excercises"
   ]
  },
  {
   "cell_type": "markdown",
   "metadata": {},
   "source": [
    "1\\. Guess number(Single number): please generate a randomly number  with the function (random), then ask someone to guess the number,I think we should give the corresponding hint, otherwise it will be very difficult to guess the number.the game will be over untill you get the right number."
   ]
  },
  {
   "cell_type": "code",
   "execution_count": 1,
   "metadata": {},
   "outputs": [],
   "source": [
    "## write your answer here!\n",
    "import random\n",
    "random_number = random.randint(1,10)\n",
    "print('猜数字游戏')\n",
    "print(random_number)\n",
    "guess = 0\n",
    "while guess != random_number:\n",
    "    temp = input('请输入数字：')\n",
    "    guess = int(temp)\n",
    "    if guess > random_number:\n",
    "        print('您输入的数字过大，请重新输入')\n",
    "    if guess <random_number:\n",
    "        print('您输入的数字过小，请重新输入')\n",
    "if guess == random_number:\n",
    "    print('恭喜您，输入正确！')"
   ]
  },
  {
   "cell_type": "markdown",
   "metadata": {},
   "source": [
    "2\\.if you had understand the guess single number games,Congratulates,next is the guess three number games,Maybe you can do it well.But this is a different way of thinking. \n",
    "first : we need generate three numbers,there are most ten times chances give  you to guess the number,of course,we also give you some cue.\n",
    "\n",
    "- 'When I say:-->It means:\n",
    "- 'error--> The 3 numbers are not in the mystical numbers.'\n",
    "- 'Only the number is correct --> the number is right , but the position is not right.'\n",
    "- 'Absolutely right--> numbers is right and the position also right.'\n",
    "\n",
    "Maybe it's better for you to understand the rule well through see the picture.\n",
    "<div style=\"float:left;\" ><img src=\"img/p1.png\" width=\"400\" height=\"300\" >"
   ]
  },
  {
   "cell_type": "code",
   "execution_count": null,
   "metadata": {},
   "outputs": [],
   "source": [
    "## write your answer here!\n",
    "import random\n",
    "secret = random.randint(100,999)\n",
    "print('猜3个数游戏')\n",
    "# print(secret)\n",
    "guess = 0\n",
    "count = 0\n",
    "num1 = int(secret % 10)\n",
    "temp = int(secret / 10)\n",
    "num2 = int(temp % 10)\n",
    "num3 = int(temp / 10)\n",
    "while guess != secret:\n",
    "    if count > 10:\n",
    "        print('Game Over')\n",
    "        break\n",
    "    number = input('This is the ' + str(count) + ' time:')\n",
    "    guess = int(number)\n",
    "    if guess == secret:\n",
    "        print('congratulation!')\n",
    "        break\n",
    "    gnum1 = int(guess % 10)\n",
    "    gtemp = int(guess / 10)\n",
    "    gnum2 = int(gtemp % 10)\n",
    "    gnum3 = int(gtemp / 10)\n",
    "    while True:\n",
    "        if gnum1 == num1:\n",
    "            s1 = \"Absolutely right\"\n",
    "            break\n",
    "        elif gnum1 == num2 or gnum1 == num3:\n",
    "            s1 = \"Only the number is correct\"\n",
    "            break\n",
    "        else:\n",
    "            s1 = \"error\"\n",
    "            break\n",
    "    while True:\n",
    "        if gnum2 == num2:\n",
    "            s2 = \"Absolutely right\"\n",
    "            break\n",
    "        elif gnum2 == num1 or gnum2 == num3:\n",
    "            s2 = \"Only the number is correct\"\n",
    "            break\n",
    "        else:\n",
    "            s2 = \"error\"\n",
    "            break\n",
    "\n",
    "    while True:\n",
    "        if gnum3 == num3:\n",
    "            s3 = \"Absolutely right\"\n",
    "            break\n",
    "        elif gnum3 == num1 or gnum3 == num2:\n",
    "            s3 = \"Only the number is correct\"\n",
    "            break\n",
    "        else:\n",
    "            s3 = \"error\"\n",
    "            break\n",
    "    print([s3,s2,s1])\n",
    "    count = count + 1\n"
   ]
  },
  {
   "cell_type": "markdown",
   "metadata": {},
   "source": [
    "3\\.please try using Python's Tkinter to make a visual interface（GUI）.if you don't know anything.Maybe you can refer to the below interface.and implement it by code.\n",
    "\n",
    "<div style=\"float:left;\" ><img src=\"img/p2.png\" width=\"200\" height=\"200\" >"
   ]
  },
  {
   "cell_type": "code",
   "execution_count": null,
   "metadata": {},
   "outputs": [],
   "source": [
    "## write your answer here!\n",
    "from tkinter import*\n",
    "root = Tk()\n",
    "li = ['C','python','php','html','SQL','Java']\n",
    "movie = ['css','bootstrap','zhang']\n",
    "listb = Listbox(root)\n",
    "listb2 = Listbox(root)\n",
    "\n",
    "for item in li:\n",
    "    listb.insert(0,item)\n",
    "for item in movie:\n",
    "    listb2.insert(0,item)\n",
    "listb.pack()\n",
    "listb2.pack()\n",
    "root.mainloop()\n"
   ]
  },
  {
   "cell_type": "markdown",
   "metadata": {},
   "source": [
    "4\\.Through the initial trial of Tkinter,    please write a simple calculator.\n",
    "\n",
    "<div style=\"float:left;\" ><img src=\"img/p3.png\" width=\"180\" height=\"200\" center=\"left\"></div>\n",
    "<div style=\"float:left;\" ><img src=\"img/p4.png\" width=\"180\" height=\"200\" center=\"right\" ></div>"
   ]
  },
  {
   "cell_type": "code",
   "execution_count": 2,
   "metadata": {},
   "outputs": [],
   "source": [
    "## write your answer here!\n",
    "class Counter:\n",
    "    # 引入tkinter\n",
    "    import tkinter as tk\n",
    "    # 引入消息弹窗模块\n",
    "    import tkinter.messagebox as mbox\n",
    "\n",
    "    # 初始化Counter\n",
    "    def __init__(self):\n",
    "        # 生成一个窗口对象\n",
    "        self.window = self.tk.Tk()\n",
    "        # 命名窗口对象的显示title\n",
    "        self.window.title('Simple Calculator')\n",
    "\n",
    "        # 设置窗口的大小\n",
    "        self.window.minsize(240, 325)\n",
    "        self.window.maxsize(300, 520)\n",
    "        # 是否清空显示框判定参数\n",
    "        self.is_init_lable = False\n",
    "        # 设置菜单\n",
    "        self.set_menu()\n",
    "        # 设置显示框\n",
    "        self.lable_show = self.tk.Label(text='', anchor='se', font=('黑体', 30), bg='yellow')\n",
    "        self.lable_show.place(x=0, y=0, width=240, height=80)\n",
    "        # 设置按钮组件\n",
    "        self.set_buttons()\n",
    "        # 将窗口放入主消息队列\n",
    "        self.window.mainloop()\n",
    "\n",
    "    # 设置菜单\n",
    "    def set_menu(self):\n",
    "        # 创建总菜单\n",
    "        menubar = self.tk.Menu(self.window)\n",
    "        # 创建一个下拉菜单，并且加入文件菜单\n",
    "        filemenu = self.tk.Menu(menubar, tearoff=0)\n",
    "        # 创建下来菜单的选项\n",
    "        filemenu.add_command(label=\"退出计算器\", command=self.window.quit)\n",
    "\n",
    "        # print author的函数\n",
    "        def show_author():\n",
    "            self.mbox.showinfo(message='张明宏')\n",
    "\n",
    "        filemenu.add_command(label=\"作者\", command=show_author)\n",
    "        # 将文件菜单作为下拉菜单添加到总菜单中，并且将命名为操作\n",
    "        menubar.add_cascade(label=\"操作\", menu=filemenu)\n",
    "        # 显示总菜单\n",
    "        self.window.config(menu=menubar)\n",
    "\n",
    "    # 设置按钮组件\n",
    "    def set_buttons(self):\n",
    "        # 7\n",
    "        btn7 = self.tk.Button(text='7', bd=2, font='黑体')\n",
    "        btn7.place(x=0, y=90, width=60, height=40)\n",
    "        # 8\n",
    "        btn8 = self.tk.Button(text='8', bd=2, font='黑体')\n",
    "        btn8.place(x=60, y=90, width=60, height=40)\n",
    "        # 9\n",
    "        btn9 = self.tk.Button(text='9', bd=2, font='黑体')\n",
    "        btn9.place(x=120, y=90, width=60, height=40)\n",
    "        # +\n",
    "        btn_jia = self.tk.Button(text='+', bd=2, font='黑体')\n",
    "        btn_jia.place(x=180, y=90, width=60, height=40)\n",
    "        # 4\n",
    "        btn4 = self.tk.Button(text='4', bd=2, font='黑体')\n",
    "        btn4.place(x=0, y=130, width=60, height=40)\n",
    "        # 5\n",
    "        btn5 = self.tk.Button(text='5', bd=2, font='黑体')\n",
    "        btn5.place(x=60, y=130, width=60, height=40)\n",
    "        # 6\n",
    "        btn6 = self.tk.Button(text='6', bd=2, font='黑体')\n",
    "        btn6.place(x=120, y=130, width=60, height=40)\n",
    "        # -\n",
    "        btn_jian = self.tk.Button(text='-', bd=2, font='黑体')\n",
    "        btn_jian.place(x=180, y=130, width=60, height=40)\n",
    "        # 1\n",
    "        btn1 = self.tk.Button(text='1', bd=2, font='黑体')\n",
    "        btn1.place(x=0, y=170, width=60, height=40)\n",
    "        # 2\n",
    "        btn2 = self.tk.Button(text='2', bd=2, font='黑体')\n",
    "        btn2.place(x=60, y=170, width=60, height=40)\n",
    "        # 3\n",
    "        btn3 = self.tk.Button(text='3', bd=2, font='黑体')\n",
    "        btn3.place(x=120, y=170, width=60, height=40)\n",
    "        # *\n",
    "        btn_cheng = self.tk.Button(text='*', bd=2, font='黑体')\n",
    "        btn_cheng.place(x=180, y=170, width=60, height=40)\n",
    "        # 0\n",
    "        btn0 = self.tk.Button(text='0', bd=2, font='黑体')\n",
    "        btn0.place(x=0, y=210, width=120, height=40)\n",
    "        # .\n",
    "        btn_point = self.tk.Button(text='.', bd=2, font='黑体')\n",
    "        btn_point.place(x=120, y=210, width=60, height=40)\n",
    "        # /\n",
    "        btn_chu = self.tk.Button(text='/', bd=2, font='黑体')\n",
    "        btn_chu.place(x=180, y=210, width=60, height=40)\n",
    "        # 取消 C\n",
    "        btn_cancel = self.tk.Button(text='C', bd=2, font='黑体')\n",
    "        btn_cancel.place(x=0, y=250, width=60, height=40)\n",
    "        # 确定 =\n",
    "        btn_ok = self.tk.Button(text='=', bd=2, font='黑体')\n",
    "        btn_ok.place(x=60, y=250, width=180, height=40)\n",
    "        # 绑定Button的点击事件\n",
    "        btn7.bind_class('Button', '<Button-1>', self.click_button)\n",
    "\n",
    "    # 绑定Button的点击事件\n",
    "    def click_button(self, e):\n",
    "        # 判断是否是新的运算,如果是则清空显示框\n",
    "        if self.is_init_lable:\n",
    "            self.lable_show['text'] = ''\n",
    "            self.is_init_lable = False\n",
    "        # label_show显示的累加\n",
    "        font = e.widget['text']\n",
    "        self.lable_show['text'] += font\n",
    "        # 异常捕获\n",
    "        try:\n",
    "            # 判定运算符号重复的时候,使用最后输入的符号\n",
    "            if self.lable_show['text'][-1] in ['+', '-', '*', '/'] and self.lable_show['text'][-2] in ['+', '-', '*',\n",
    "                                                                                                       '/']:\n",
    "                header = self.lable_show['text'][:-2]\n",
    "                footer = self.lable_show['text'][-1]\n",
    "                self.lable_show['text'] = header + footer\n",
    "        except:\n",
    "            pass\n",
    "\n",
    "        # 普通计算\n",
    "        if e.widget['text'] == '=':\n",
    "            try:\n",
    "                res = eval(self.lable_show['text'][:-1])\n",
    "                # print(res)\n",
    "                # 小数点取到9位\n",
    "                self.lable_show['text'] = str(round(float(res), 5))\n",
    "                self.isinit = True\n",
    "            except ZeroDivisionError:\n",
    "                # 除法时，除数不能为0\n",
    "                self.mbox.showerror(message='除法计算时！除数不能为0！')\n",
    "            except:\n",
    "                self.mbox.showerror(message='算式有误')\n",
    "        # 取消当前输入的字符\n",
    "        if e.widget['text'] == 'C':\n",
    "            cancel_res = self.lable_show['text'][:-2]\n",
    "            self.lable_show['text'] = cancel_res\n",
    "# 实例化计算器对象\n",
    "wiz = Counter()\n"
   ]
  },
  {
   "cell_type": "markdown",
   "metadata": {},
   "source": [
    "5\\.Ball game:Python's pinball game, which can realize the game function of the keyboard control bottom baffle moving collision ball similar to table tennis game. \n",
    "\n",
    "<div style=\"float:left;\" ><img src=\"img/p5.png\" width=\"200\" height=\"200\" center=\"left\"></div>\n",
    "<div style=\"float:left;\" ><img src=\"img/p6.png\" width=\"200\" height=\"200\" center=\"right\" ></div>\n"
   ]
  },
  {
   "cell_type": "markdown",
   "metadata": {},
   "source": [
    "this is a step:how to install the matplotlib,you can reference this link:https://blog.csdn.net/not_give_up_/article/details/79058272\n",
    "1. Ball Class\n",
    "    draw is responsible for moving Ball\n",
    "    Collision detection, bounce, Ball detection of Paddle \n",
    "2. Paddle Class\n",
    "    draw is responsible for moving Paddle\n",
    "    Collision detection to determine whether or not to continue ,Monitor keyboard events\n",
    "3. main cycle\n",
    "    Drawing the Ball and Paddle"
   ]
  },
  {
   "cell_type": "code",
   "execution_count": null,
   "metadata": {},
   "outputs": [],
   "source": [
    "## write your answer here!\n",
    "from tkinter import*\n",
    "import matplotlib\n",
    "matplotlib.use('Agg')\n",
    "import random\n",
    "import time\n",
    "class Ball:\n",
    "  def __init__(self, canvas, paddle, color):\n",
    "    self.canvas = canvas\n",
    "    self.paddle = paddle\n",
    "    self.id = canvas.create_oval(10, 10, 25, 25, fill=color)\n",
    "    self.canvas.move(self.id, 245, 100)\n",
    "    startx = [-3, -2, -1, 1, 2, 3]\n",
    "    random.shuffle(startx)\n",
    "    self.x = startx[0]\n",
    "    self.y = -3\n",
    "    self.canvas_height = self.canvas.winfo_height()\n",
    "    self.canvas_width = self.canvas.winfo_width()\n",
    "    self.hit_bottom = False\n",
    "  def draw(self):\n",
    "    self.canvas.move(self.id, self.x, self.y)\n",
    "    pos = self.canvas.coords(self.id)#top-left bottom-right\n",
    "    if (pos[1] <= 0 or self.hit_paddle(pos) == True):\n",
    "      self.y = -self.y\n",
    "    if (pos[0] <= 0 or pos[2] >= self.canvas_width):\n",
    "      self.x = -self.x\n",
    "    if (pos[3] >= self.canvas_height):\n",
    "      self.hit_bottom = True\n",
    "  def hit_paddle(self, pos):\n",
    "    paddle_pos = self.canvas.coords(self.paddle.id)\n",
    "    if (pos[2] >= paddle_pos[0] and pos[0] <= paddle_pos[2]):\n",
    "      if (pos[3] >= paddle_pos[1] and pos[3] <= paddle_pos[3]):\n",
    "        return True\n",
    "    return False\n",
    "class Paddle:\n",
    "  def __init__(self, canvas, color):\n",
    "    self.canvas = canvas\n",
    "    self.id = canvas.create_rectangle(0, 0, 100, 10, fill = color)\n",
    "    self.x = 0\n",
    "    self.canvas.move(self.id, 200, 300)\n",
    "    self.canvas_width = self.canvas.winfo_width()\n",
    "    self.canvas.bind_all(\"<Key-Left>\", self.turn_left)\n",
    "    self.canvas.bind_all(\"<Key-Right>\", self.turn_right)\n",
    "  def draw(self):\n",
    "    pos = self.canvas.coords(self.id)\n",
    "    if (pos[0] + self.x >= 0 and pos[2] + self.x <= self.canvas_width):\n",
    "      self.canvas.move(self.id, self.x, 0)\n",
    "    #self.x = 0\n",
    "  def turn_left(self, event):\n",
    "    self.x = -4\n",
    "  def turn_right(self, event):\n",
    "    self.x = 4\n",
    "tk = Tk()\n",
    "tk.title(\"Game\")\n",
    "tk.resizable(0, 0)#not resizable\n",
    "tk.wm_attributes(\"-topmost\", 1)#at top\n",
    "canvas = Canvas(tk, width = 500, height = 500, bd = 0, highlightthickness = 0)\n",
    "canvas.pack()\n",
    "tk.update()#init\n",
    "paddle = Paddle(canvas, 'blue')\n",
    "ball = Ball(canvas, paddle, 'red')\n",
    "while 1:\n",
    "    if (ball.hit_bottom == False):\n",
    "        ball.draw()\n",
    "        paddle.draw()\n",
    "        tk.update_idletasks()\n",
    "        tk.update()\n",
    "        time.sleep(0.01)"
   ]
  }
 ],
 "metadata": {
  "kernelspec": {
   "display_name": "Python 3",
   "language": "python",
   "name": "python3"
  },
  "language_info": {
   "codemirror_mode": {
    "name": "ipython",
    "version": 3
   },
   "file_extension": ".py",
   "mimetype": "text/x-python",
   "name": "python",
   "nbconvert_exporter": "python",
   "pygments_lexer": "ipython3",
   "version": "3.6.5"
  }
 },
 "nbformat": 4,
 "nbformat_minor": 2
}
